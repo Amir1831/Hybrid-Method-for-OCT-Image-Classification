{
 "cells": [
  {
   "cell_type": "markdown",
   "id": "c07557e6-c6f1-4e03-a110-3c78e2285b34",
   "metadata": {},
   "source": [
    "# "
   ]
  },
  {
   "cell_type": "code",
   "execution_count": 1,
   "id": "6aeee0c7-a0d4-4707-b2a6-e63ea1d95733",
   "metadata": {},
   "outputs": [
    {
     "name": "stderr",
     "output_type": "stream",
     "text": [
      "/usr/local/lib/python3.10/dist-packages/tqdm/auto.py:21: TqdmWarning: IProgress not found. Please update jupyter and ipywidgets. See https://ipywidgets.readthedocs.io/en/stable/user_install.html\n",
      "  from .autonotebook import tqdm as notebook_tqdm\n"
     ]
    }
   ],
   "source": [
    "import torch\n",
    "from torchvision import transforms\n",
    "# Continue with regular imports\n",
    "import matplotlib.pyplot as plt\n",
    "import torch\n",
    "import torchvision\n",
    "from torch import nn\n",
    "from torchvision import transforms"
   ]
  },
  {
   "cell_type": "code",
   "execution_count": 2,
   "id": "f56da220-b731-4b7b-8671-a0618b13d33f",
   "metadata": {},
   "outputs": [],
   "source": [
    "BATCH_SIZE = 64\n",
    "IMG_SIZE = (128,128)\n",
    "PATCH_SIZE = (8,8)\n",
    "# Number of patch in one sequence\n",
    "NUM_PATCH = int((IMG_SIZE[0] / PATCH_SIZE[0])**2)\n",
    "# Number of patch out after feature extracting\n",
    "T = int(NUM_PATCH / 4)\n",
    "# Number of attention head\n",
    "NUM_H = 4\n",
    "# Number of Transformer Block\n",
    "NUM_TR = 11"
   ]
  },
  {
   "cell_type": "code",
   "execution_count": 3,
   "id": "ecb124ab-80aa-4f41-900e-6e43da5d82ac",
   "metadata": {},
   "outputs": [
    {
     "data": {
      "text/plain": [
       "'cuda'"
      ]
     },
     "execution_count": 3,
     "metadata": {},
     "output_type": "execute_result"
    }
   ],
   "source": [
    "device = \"cuda\" if torch.cuda.is_available() else \"cpu\"\n",
    "device"
   ]
  },
  {
   "cell_type": "code",
   "execution_count": 4,
   "id": "2160234d-9515-4e33-add0-5931c0912bcb",
   "metadata": {},
   "outputs": [],
   "source": [
    "my_transform = transforms.Compose([\n",
    "                                    transforms.Resize((IMG_SIZE)),\n",
    "                                    transforms.RandAugment(),\n",
    "                                    transforms.ToTensor()\n",
    "])"
   ]
  },
  {
   "cell_type": "code",
   "execution_count": 5,
   "id": "446b8bf3-01b8-434b-bbd8-56d2d305fd03",
   "metadata": {
    "id": "6OTCCGLs9flA"
   },
   "outputs": [],
   "source": [
    "def img_to_patch(x, patch_size, flatten_channels=True):\n",
    "    \"\"\"\n",
    "    Inputs:\n",
    "        x - torch.Tensor representing the image of shape [B, C, H, W]\n",
    "        patch_size - Number of pixels per dimension of the patches (integer)\n",
    "        flatten_channels - If True, the patches will be returned in a flattened format\n",
    "                           as a feature vector instead of a image grid.\n",
    "    \"\"\"\n",
    "    B, C, H, W = x.shape\n",
    "    x = x.reshape(B, C, H//patch_size, patch_size, W//patch_size, patch_size)\n",
    "    x = x.permute(0, 2, 4, 1, 3, 5) # [B, H', W', C, p_H, p_W]\n",
    "    x = x.flatten(1,2)              # [B, H'*W', C, p_H, p_W]\n",
    "    if flatten_channels:\n",
    "        x = x.flatten(2,4)          # [B, H'*W', C*p_H*p_W]\n",
    "    return x"
   ]
  },
  {
   "cell_type": "code",
   "execution_count": 6,
   "id": "c6316807-33f2-48c7-aed7-015f43b26d6d",
   "metadata": {
    "id": "b8e2dda6-8af0-4255-815f-4d885fa4b477"
   },
   "outputs": [],
   "source": [
    "class AttentionBlock(nn.Module):\n",
    "\n",
    "    def __init__(self, embed_dim, hidden_dim, num_heads, dropout=0.0):\n",
    "        \"\"\"\n",
    "        Inputs:\n",
    "            embed_dim - Dimensionality of input and attention feature vectors\n",
    "            hidden_dim - Dimensionality of hidden layer in feed-forward network\n",
    "                         (usually 2-4x larger than embed_dim)\n",
    "            num_heads - Number of heads to use in the Multi-Head Attention block\n",
    "            dropout - Amount of dropout to apply in the feed-forward network\n",
    "        \"\"\"\n",
    "        super().__init__()\n",
    "        self.layer_norm_1 = nn.LayerNorm(embed_dim)\n",
    "        self.attn = nn.MultiheadAttention(embed_dim, num_heads,\n",
    "                                          dropout=dropout)\n",
    "        self.layer_norm_2 = nn.LayerNorm(embed_dim)\n",
    "        self.linear = nn.Sequential(\n",
    "            nn.Linear(embed_dim, hidden_dim),\n",
    "            nn.GELU(),\n",
    "            nn.Dropout(dropout),\n",
    "            nn.Linear(hidden_dim, embed_dim),\n",
    "            nn.Dropout(dropout)\n",
    "        )\n",
    "        \n",
    "\n",
    "\n",
    "    def forward(self, x):\n",
    "        inp_x = self.layer_norm_1(x)\n",
    "        x = x + self.attn(inp_x, inp_x, inp_x)[0]\n",
    "        x = x + self.linear(self.layer_norm_2(x))\n",
    "        return x"
   ]
  },
  {
   "cell_type": "code",
   "execution_count": 7,
   "id": "6b15410a-5349-42d8-a82d-6c231a96b538",
   "metadata": {
    "id": "JIQM39VN6HnC"
   },
   "outputs": [],
   "source": [
    "class Transpose(nn.Module):\n",
    "    def __init__(self, dim1, dim2):\n",
    "        super().__init__()\n",
    "        self.dim1 = dim1\n",
    "        self.dim2 = dim2\n",
    "\n",
    "    def forward(self, x):\n",
    "        return x.transpose(self.dim1, self.dim2)\n"
   ]
  },
  {
   "cell_type": "code",
   "execution_count": 8,
   "id": "b2ca4378-9d15-4db4-8550-c9dfe7086698",
   "metadata": {
    "id": "DM62A0Aw6IQV"
   },
   "outputs": [],
   "source": [
    "class VisionTransformer(nn.Module):\n",
    "\n",
    "    def __init__(self, embed_dim, hidden_dim,n_feature, num_channels, num_heads, num_layers, num_classes, patch_size, num_patches, dropout=0.0):\n",
    "        \"\"\"\n",
    "        Inputs:\n",
    "            embed_dim - Dimensionality of the input feature vectors to the Transformer\n",
    "            hidden_dim - Dimensionality of the hidden layer in the feed-forward networks\n",
    "                         within the Transformer\n",
    "            num_channels - Number of channels of the input (3 for RGB)\n",
    "            num_heads - Number of heads to use in the Multi-Head Attention block\n",
    "            num_layers - Number of layers to use in the Transformer\n",
    "            num_classes - Number of classes to predict\n",
    "            patch_size - Number of pixels that the patches have per dimension\n",
    "            num_patches - Maximum number of patches an image can have\n",
    "            dropout - Amount of dropout to apply in the feed-forward network and\n",
    "                      on the input encoding\n",
    "        \"\"\"\n",
    "        super().__init__()\n",
    "\n",
    "        self.patch_size = patch_size\n",
    "\n",
    "        # Layers/Networks\n",
    "        # self.input_layer = nn.Linear(num_channels*(patch_size**2), embed_dim)\n",
    "        # self.input_layer = FeatureExtractor(n_feature,embed_dim)\n",
    "        self.input_layer = nn.Sequential(\n",
    "            nn.Conv3d(num_channels , n_feature*3 , kernel_size = 3 , padding=1 , stride=1),\n",
    "            nn.ReLU(),\n",
    "            # nn.Conv3d(n_feature , n_feature*2 , kernel_size = 3 , padding=1 , stride=1),\n",
    "            # nn.ReLU(),\n",
    "            nn.MaxPool3d(kernel_size=(2,1,1) , stride=(2,1,1) , padding=(0,0,0)),\n",
    "            \n",
    "            nn.Conv3d(n_feature*3 , n_feature*6 , 3 , padding=1 , stride=1),\n",
    "            nn.ReLU(),\n",
    "            # nn.Conv3d(n_feature*4 , n_feature*8 , 3 , padding=1 , stride=1),\n",
    "            # nn.ReLU(),\n",
    "            nn.MaxPool3d(kernel_size=(2,1,1) , stride=(2,1,1) , padding=(0,0,0)),\n",
    "            nn.Conv3d(n_feature*6 , n_feature*8 , 3 , padding=1 , stride=1),\n",
    "            \n",
    "            \n",
    "            Transpose(2,1),\n",
    "            nn.Flatten(2,-1),\n",
    "            nn.Linear(n_feature*8*PATCH_SIZE[0]*PATCH_SIZE[0] ,embed_dim )\n",
    "            \n",
    "            \n",
    "        )\n",
    "        self.transformer = nn.Sequential(*[AttentionBlock(embed_dim, hidden_dim, num_heads, dropout=dropout) for _ in range(num_layers)])\n",
    "        self.mlp_head = nn.Sequential(\n",
    "            nn.LayerNorm(embed_dim),\n",
    "            nn.Linear(embed_dim, num_classes)\n",
    "            # torch.nn.Softmax(dim=1)\n",
    "        )\n",
    "        self.dropout = nn.Dropout(dropout)\n",
    "\n",
    "        # Parameters/Embeddings\n",
    "        self.cls_token = nn.Parameter(torch.randn(1,1,embed_dim))\n",
    "        self.pos_embedding = nn.Parameter(torch.randn(1,1+int(NUM_PATCH / 4),embed_dim))\n",
    "\n",
    "\n",
    "    def forward(self, x):\n",
    "        # Preprocess input\n",
    "        x = img_to_patch(x, self.patch_size , flatten_channels=False).transpose(1,2)\n",
    "        # print(x.shape)\n",
    "        B, _, _ , _ , _= x.shape\n",
    "        T = int(NUM_PATCH / 4)\n",
    "        x = self.input_layer(x)\n",
    "        # print(x.shape)\n",
    "        # Add CLS token and positional encoding\n",
    "        cls_token = self.cls_token.repeat(B, 1, 1)\n",
    "        x = torch.cat([cls_token, x], dim=1)\n",
    "        x = x + self.pos_embedding[:,:T+1]\n",
    "\n",
    "        # Apply Transforrmer\n",
    "        x = self.dropout(x)\n",
    "        x = x.transpose(0, 1)\n",
    "        x = self.transformer(x)\n",
    "\n",
    "        # Perform classification prediction\n",
    "        cls = x[0]\n",
    "        out = self.mlp_head(cls)\n",
    "        return out"
   ]
  },
  {
   "cell_type": "code",
   "execution_count": 9,
   "id": "c2e46252-9fe0-4018-86a3-90e06653da8e",
   "metadata": {
    "colab": {
     "base_uri": "https://localhost:8080/"
    },
    "id": "8iDaZ7uu6IWQ",
    "outputId": "f69da966-d7f8-44e0-c8de-eb5c7c9a61d7",
    "scrolled": true
   },
   "outputs": [],
   "source": [
    "AmirModel = VisionTransformer(embed_dim = 256 , \n",
    "                            hidden_dim = 512,\n",
    "                            n_feature=8 ,\n",
    "                            num_channels = 3, \n",
    "                            num_heads = NUM_H , \n",
    "                            num_layers = NUM_TR ,\n",
    "                            num_classes=4,\n",
    "                            patch_size=PATCH_SIZE[0] ,\n",
    "                            num_patches=NUM_PATCH , \n",
    "                            dropout=0.1 ).to(device)"
   ]
  },
  {
   "cell_type": "markdown",
   "id": "43dec400-8b9b-4df4-8e3c-9f769a91577e",
   "metadata": {
    "id": "p754GQyt5_s4"
   },
   "source": [
    "**************************************************************************************"
   ]
  },
  {
   "cell_type": "code",
   "execution_count": 10,
   "id": "bd0bb689-a71f-481a-93cb-3940bd2e33ae",
   "metadata": {
    "scrolled": true
   },
   "outputs": [],
   "source": [
    "# Compile the model \n",
    "torch.set_float32_matmul_precision('high')\n",
    "AmirModel = torch.compile(AmirModel)"
   ]
  },
  {
   "cell_type": "code",
   "execution_count": 11,
   "id": "75a42b03-8f0a-4abd-bf4e-5fc7545593ae",
   "metadata": {},
   "outputs": [
    {
     "name": "stdout",
     "output_type": "stream",
     "text": [
      "/app/ieee/code/Classification-Clustering/Classification\n"
     ]
    }
   ],
   "source": [
    "!pwd"
   ]
  },
  {
   "cell_type": "code",
   "execution_count": 12,
   "id": "abf62b40-7649-485f-9bc4-675adf2bcd33",
   "metadata": {},
   "outputs": [
    {
     "data": {
      "text/plain": [
       "<All keys matched successfully>"
      ]
     },
     "execution_count": 12,
     "metadata": {},
     "output_type": "execute_result"
    }
   ],
   "source": [
    "# AmirModel.load_state_dict(torch.load(\"../TrackExp/\" + name + \".pth\"))\n",
    "AmirModel.load_state_dict(torch.load(\"../../../../Ablation_Study/TrackExp/BestWeight_Part_1_Epoch_3_TrainLoss_0.044724611829818246_TestLoss_0.016080412089830787TrainAcc_0.9831583453496756_Testacc_0.9951923076923077.pth\"))"
   ]
  },
  {
   "cell_type": "code",
   "execution_count": 13,
   "id": "345a57f9-fea8-4950-9008-9e472e680e6f",
   "metadata": {},
   "outputs": [],
   "source": [
    "train_dir = \"../../../ICIP_denoised_data/Data_2/train/\"\n",
    "test_dir = \"../../../ICIP_denoised_data/Data_2/test/\""
   ]
  },
  {
   "cell_type": "code",
   "execution_count": 54,
   "id": "58fe5a4e-e567-455d-9958-5153bc432428",
   "metadata": {},
   "outputs": [],
   "source": [
    "from torch.utils.data import default_collate\n",
    "from torchvision.transforms import v2\n",
    "\n",
    "cutmix = v2.CutMix(num_classes=2,alpha=0.4)\n",
    "mixup = v2.MixUp(num_classes=2,alpha=0.5)\n",
    "cutmix_or_mixup = v2.RandomChoice([cutmix, mixup])\n",
    "def collate_fn(batch):\n",
    "    return cutmix_or_mixup(*default_collate(batch))\n"
   ]
  },
  {
   "cell_type": "code",
   "execution_count": 55,
   "id": "b761575f-90e2-48fb-ae6d-fa88e5a661f6",
   "metadata": {},
   "outputs": [],
   "source": [
    "# Setup dataloaders\n",
    "from going_modular.going_modular import data_setup, engine\n",
    "from helper_functions import download_data, set_seeds, plot_loss_curves\n",
    "\n",
    "train_dataloader, test_dataloader, class_names = data_setup.create_dataloaders(train_dir=train_dir,\n",
    "                                                                                test_dir=test_dir,\n",
    "                                                                                transform=my_transform,\n",
    "                                                                                batch_size=BATCH_SIZE,\n",
    "                                                                                num_workers = 8,\n",
    "                                                                                collate_fn=collate_fn) # Could increase if we had more samples, such as here: https://arxiv.org/abs/2205.01580 (there are other improvements there too...)\n"
   ]
  },
  {
   "cell_type": "code",
   "execution_count": 56,
   "id": "59930b51-b628-4e8a-8971-53665f9c7db7",
   "metadata": {},
   "outputs": [
    {
     "data": {
      "text/plain": [
       "['1', '2']"
      ]
     },
     "execution_count": 56,
     "metadata": {},
     "output_type": "execute_result"
    }
   ],
   "source": [
    "class_names"
   ]
  },
  {
   "cell_type": "code",
   "execution_count": 57,
   "id": "1f501dac-1a6a-4f8b-81a5-ae3ad131985d",
   "metadata": {},
   "outputs": [
    {
     "data": {
      "text/plain": [
       "(torch.Size([64, 3, 128, 128]),\n",
       " tensor([[1.0000, 0.0000],\n",
       "         [0.1121, 0.8879],\n",
       "         [0.8879, 0.1121],\n",
       "         [1.0000, 0.0000],\n",
       "         [0.1121, 0.8879],\n",
       "         [0.8879, 0.1121],\n",
       "         [0.1121, 0.8879],\n",
       "         [0.8879, 0.1121],\n",
       "         [1.0000, 0.0000],\n",
       "         [1.0000, 0.0000],\n",
       "         [1.0000, 0.0000],\n",
       "         [0.1121, 0.8879],\n",
       "         [0.0000, 1.0000],\n",
       "         [0.8879, 0.1121],\n",
       "         [1.0000, 0.0000],\n",
       "         [0.1121, 0.8879],\n",
       "         [0.0000, 1.0000],\n",
       "         [0.0000, 1.0000],\n",
       "         [0.8879, 0.1121],\n",
       "         [0.1121, 0.8879],\n",
       "         [0.0000, 1.0000],\n",
       "         [0.8879, 0.1121],\n",
       "         [1.0000, 0.0000],\n",
       "         [1.0000, 0.0000],\n",
       "         [1.0000, 0.0000],\n",
       "         [1.0000, 0.0000],\n",
       "         [1.0000, 0.0000],\n",
       "         [0.1121, 0.8879],\n",
       "         [0.0000, 1.0000],\n",
       "         [0.8879, 0.1121],\n",
       "         [0.1121, 0.8879],\n",
       "         [0.8879, 0.1121],\n",
       "         [0.1121, 0.8879],\n",
       "         [0.0000, 1.0000],\n",
       "         [0.0000, 1.0000],\n",
       "         [0.8879, 0.1121],\n",
       "         [0.1121, 0.8879],\n",
       "         [0.0000, 1.0000],\n",
       "         [0.0000, 1.0000],\n",
       "         [0.8879, 0.1121],\n",
       "         [0.1121, 0.8879],\n",
       "         [0.8879, 0.1121],\n",
       "         [1.0000, 0.0000],\n",
       "         [1.0000, 0.0000],\n",
       "         [1.0000, 0.0000],\n",
       "         [1.0000, 0.0000],\n",
       "         [0.1121, 0.8879],\n",
       "         [0.0000, 1.0000],\n",
       "         [0.0000, 1.0000],\n",
       "         [0.0000, 1.0000],\n",
       "         [0.8879, 0.1121],\n",
       "         [1.0000, 0.0000],\n",
       "         [0.1121, 0.8879],\n",
       "         [0.0000, 1.0000],\n",
       "         [0.0000, 1.0000],\n",
       "         [0.8879, 0.1121],\n",
       "         [1.0000, 0.0000],\n",
       "         [0.1121, 0.8879],\n",
       "         [0.0000, 1.0000],\n",
       "         [0.0000, 1.0000],\n",
       "         [0.8879, 0.1121],\n",
       "         [0.1121, 0.8879],\n",
       "         [0.8879, 0.1121],\n",
       "         [1.0000, 0.0000]]))"
      ]
     },
     "execution_count": 57,
     "metadata": {},
     "output_type": "execute_result"
    }
   ],
   "source": [
    "next(iter(train_dataloader))[0].shape ,next(iter(train_dataloader))[1]"
   ]
  },
  {
   "cell_type": "code",
   "execution_count": 58,
   "id": "9dbdcbfa-0fac-495d-951d-690828daad46",
   "metadata": {},
   "outputs": [
    {
     "name": "stdout",
     "output_type": "stream",
     "text": [
      "train_dir: ../../../ICIP_denoised_data/Data_2/train/\n",
      "train_dir: ../../../ICIP_denoised_data/Data_2/test/\n",
      "len train_dataloader: 115\n",
      "len test_dataloader: 29\n",
      "device: cuda\n"
     ]
    }
   ],
   "source": [
    "print(f\"train_dir: {train_dir}\")\n",
    "print(f\"train_dir: {test_dir}\")\n",
    "print(f\"len train_dataloader: {len(train_dataloader)}\")\n",
    "print(f\"len test_dataloader: {len(test_dataloader)}\")\n",
    "print(f\"device: {device}\")"
   ]
  },
  {
   "cell_type": "code",
   "execution_count": 59,
   "id": "2716723d-db2b-4711-a691-b208675cb161",
   "metadata": {
    "scrolled": true
   },
   "outputs": [],
   "source": [
    "# Create optimizer and loss function\n",
    "optimizer = torch.optim.SGD(AmirModel.parameters() , 0.001)\n",
    "loss_fn = torch.nn.CrossEntropyLoss()"
   ]
  },
  {
   "cell_type": "code",
   "execution_count": 60,
   "id": "57138101-53b3-4a38-8286-dade1bd3cb53",
   "metadata": {},
   "outputs": [],
   "source": [
    "AmirModel = nn.Sequential(AmirModel,nn.Linear(4,2)).to(device)"
   ]
  },
  {
   "cell_type": "code",
   "execution_count": 61,
   "id": "bb1084be-ac53-44f3-8a5b-16d1563a7f92",
   "metadata": {},
   "outputs": [
    {
     "name": "stderr",
     "output_type": "stream",
     "text": [
      "  0%|                                                                                                                                | 0/50 [00:00<?, ?it/s]/usr/local/lib/python3.10/dist-packages/torch/overrides.py:110: UserWarning: 'has_cuda' is deprecated, please use 'torch.backends.cuda.is_built()'\n",
      "  torch.has_cuda,\n",
      "/usr/local/lib/python3.10/dist-packages/torch/overrides.py:111: UserWarning: 'has_cudnn' is deprecated, please use 'torch.backends.cudnn.is_available()'\n",
      "  torch.has_cudnn,\n",
      "/usr/local/lib/python3.10/dist-packages/torch/overrides.py:117: UserWarning: 'has_mps' is deprecated, please use 'torch.backends.mps.is_built()'\n",
      "  torch.has_mps,\n",
      "/usr/local/lib/python3.10/dist-packages/torch/overrides.py:118: UserWarning: 'has_mkldnn' is deprecated, please use 'torch.backends.mkldnn.is_available()'\n",
      "  torch.has_mkldnn,\n",
      "  2%|██▎                                                                                                                   | 1/50 [01:16<1:02:04, 76.01s/it]"
     ]
    },
    {
     "name": "stdout",
     "output_type": "stream",
     "text": [
      "Epoch: 1 | train_loss: 0.7782 | train_acc: 0.5873 | test_loss: 0.7623 | test_acc: 0.5361\n"
     ]
    },
    {
     "name": "stderr",
     "output_type": "stream",
     "text": [
      "  4%|████▊                                                                                                                   | 2/50 [01:40<36:25, 45.53s/it]"
     ]
    },
    {
     "name": "stdout",
     "output_type": "stream",
     "text": [
      "Epoch: 2 | train_loss: 0.6646 | train_acc: 0.6270 | test_loss: 0.7225 | test_acc: 0.5857\n"
     ]
    },
    {
     "name": "stderr",
     "output_type": "stream",
     "text": [
      "  6%|███████▏                                                                                                                | 3/50 [02:04<28:08, 35.92s/it]"
     ]
    },
    {
     "name": "stdout",
     "output_type": "stream",
     "text": [
      "Epoch: 3 | train_loss: 0.6580 | train_acc: 0.6263 | test_loss: 0.7220 | test_acc: 0.5652\n"
     ]
    },
    {
     "name": "stderr",
     "output_type": "stream",
     "text": [
      "  8%|█████████▌                                                                                                              | 4/50 [02:29<24:03, 31.38s/it]"
     ]
    },
    {
     "name": "stdout",
     "output_type": "stream",
     "text": [
      "Epoch: 4 | train_loss: 0.6430 | train_acc: 0.6418 | test_loss: 0.7077 | test_acc: 0.5889\n"
     ]
    },
    {
     "name": "stderr",
     "output_type": "stream",
     "text": [
      " 10%|████████████                                                                                                            | 5/50 [02:53<21:39, 28.88s/it]"
     ]
    },
    {
     "name": "stdout",
     "output_type": "stream",
     "text": [
      "Epoch: 5 | train_loss: 0.6302 | train_acc: 0.6645 | test_loss: 0.6852 | test_acc: 0.6115\n"
     ]
    },
    {
     "name": "stderr",
     "output_type": "stream",
     "text": [
      " 12%|██████████████▍                                                                                                         | 6/50 [03:17<20:03, 27.35s/it]"
     ]
    },
    {
     "name": "stdout",
     "output_type": "stream",
     "text": [
      "Epoch: 6 | train_loss: 0.6199 | train_acc: 0.6715 | test_loss: 0.6653 | test_acc: 0.6417\n"
     ]
    },
    {
     "name": "stderr",
     "output_type": "stream",
     "text": [
      " 14%|████████████████▊                                                                                                       | 7/50 [03:42<18:54, 26.38s/it]"
     ]
    },
    {
     "name": "stdout",
     "output_type": "stream",
     "text": [
      "Epoch: 7 | train_loss: 0.6216 | train_acc: 0.6777 | test_loss: 0.6861 | test_acc: 0.6137\n"
     ]
    },
    {
     "name": "stderr",
     "output_type": "stream",
     "text": [
      " 16%|███████████████████▏                                                                                                    | 8/50 [04:06<18:02, 25.77s/it]"
     ]
    },
    {
     "name": "stdout",
     "output_type": "stream",
     "text": [
      "Epoch: 8 | train_loss: 0.6073 | train_acc: 0.6901 | test_loss: 0.6747 | test_acc: 0.6315\n"
     ]
    },
    {
     "name": "stderr",
     "output_type": "stream",
     "text": [
      " 18%|█████████████████████▌                                                                                                  | 9/50 [04:31<17:18, 25.33s/it]"
     ]
    },
    {
     "name": "stdout",
     "output_type": "stream",
     "text": [
      "Epoch: 9 | train_loss: 0.5991 | train_acc: 0.6987 | test_loss: 0.6757 | test_acc: 0.6261\n"
     ]
    },
    {
     "name": "stderr",
     "output_type": "stream",
     "text": [
      " 20%|███████████████████████▊                                                                                               | 10/50 [04:55<16:42, 25.05s/it]"
     ]
    },
    {
     "name": "stdout",
     "output_type": "stream",
     "text": [
      "Epoch: 10 | train_loss: 0.6070 | train_acc: 0.6945 | test_loss: 0.6464 | test_acc: 0.6455\n"
     ]
    },
    {
     "name": "stderr",
     "output_type": "stream",
     "text": [
      " 22%|██████████████████████████▏                                                                                            | 11/50 [05:20<16:10, 24.88s/it]"
     ]
    },
    {
     "name": "stdout",
     "output_type": "stream",
     "text": [
      "Epoch: 11 | train_loss: 0.6021 | train_acc: 0.7000 | test_loss: 0.6573 | test_acc: 0.6476\n"
     ]
    },
    {
     "name": "stderr",
     "output_type": "stream",
     "text": [
      " 24%|████████████████████████████▌                                                                                          | 12/50 [05:44<15:40, 24.75s/it]"
     ]
    },
    {
     "name": "stdout",
     "output_type": "stream",
     "text": [
      "Epoch: 12 | train_loss: 0.5828 | train_acc: 0.7113 | test_loss: 0.6662 | test_acc: 0.6433\n"
     ]
    },
    {
     "name": "stderr",
     "output_type": "stream",
     "text": [
      " 26%|██████████████████████████████▉                                                                                        | 13/50 [06:08<15:12, 24.66s/it]"
     ]
    },
    {
     "name": "stdout",
     "output_type": "stream",
     "text": [
      "Epoch: 13 | train_loss: 0.5867 | train_acc: 0.7093 | test_loss: 0.6499 | test_acc: 0.6616\n",
      "[INFO] Saving model to: TrackExp/BestWeight_Part_ICIP_final_denoise_Epoch_12_TrainLoss_0.5866567520991616_TestLoss_0.6498781273077274TrainAcc_0.7092950767263426_Testacc_0.6616379310344828.pth\n"
     ]
    },
    {
     "name": "stderr",
     "output_type": "stream",
     "text": [
      " 28%|█████████████████████████████████▎                                                                                     | 14/50 [06:33<14:44, 24.57s/it]"
     ]
    },
    {
     "name": "stdout",
     "output_type": "stream",
     "text": [
      "Epoch: 14 | train_loss: 0.5939 | train_acc: 0.7022 | test_loss: 0.6707 | test_acc: 0.6245\n"
     ]
    },
    {
     "name": "stderr",
     "output_type": "stream",
     "text": [
      " 30%|███████████████████████████████████▋                                                                                   | 15/50 [06:57<14:17, 24.51s/it]"
     ]
    },
    {
     "name": "stdout",
     "output_type": "stream",
     "text": [
      "Epoch: 15 | train_loss: 0.5891 | train_acc: 0.7125 | test_loss: 0.6528 | test_acc: 0.6600\n"
     ]
    },
    {
     "name": "stderr",
     "output_type": "stream",
     "text": [
      " 32%|██████████████████████████████████████                                                                                 | 16/50 [07:22<13:51, 24.47s/it]"
     ]
    },
    {
     "name": "stdout",
     "output_type": "stream",
     "text": [
      "Epoch: 16 | train_loss: 0.5798 | train_acc: 0.7169 | test_loss: 0.6512 | test_acc: 0.6492\n"
     ]
    },
    {
     "name": "stderr",
     "output_type": "stream",
     "text": [
      " 34%|████████████████████████████████████████▍                                                                              | 17/50 [07:46<13:26, 24.44s/it]"
     ]
    },
    {
     "name": "stdout",
     "output_type": "stream",
     "text": [
      "Epoch: 17 | train_loss: 0.5782 | train_acc: 0.7214 | test_loss: 0.6581 | test_acc: 0.6325\n"
     ]
    },
    {
     "name": "stderr",
     "output_type": "stream",
     "text": [
      " 36%|██████████████████████████████████████████▊                                                                            | 18/50 [08:10<13:01, 24.43s/it]"
     ]
    },
    {
     "name": "stdout",
     "output_type": "stream",
     "text": [
      "Epoch: 18 | train_loss: 0.5926 | train_acc: 0.7104 | test_loss: 0.6442 | test_acc: 0.6654\n",
      "[INFO] Saving model to: TrackExp/BestWeight_Part_ICIP_final_denoise_Epoch_17_TrainLoss_0.5926210504511128_TestLoss_0.6442239659613577TrainAcc_0.7104219948849105_Testacc_0.6654094827586207.pth\n"
     ]
    },
    {
     "name": "stderr",
     "output_type": "stream",
     "text": [
      " 38%|█████████████████████████████████████████████▏                                                                         | 19/50 [08:35<12:37, 24.42s/it]"
     ]
    },
    {
     "name": "stdout",
     "output_type": "stream",
     "text": [
      "Epoch: 19 | train_loss: 0.5667 | train_acc: 0.7359 | test_loss: 0.6306 | test_acc: 0.6686\n",
      "[INFO] Saving model to: TrackExp/BestWeight_Part_ICIP_final_denoise_Epoch_18_TrainLoss_0.5667477965354919_TestLoss_0.63064814333258TrainAcc_0.7358615728900256_Testacc_0.6686422413793104.pth\n"
     ]
    },
    {
     "name": "stderr",
     "output_type": "stream",
     "text": [
      " 40%|███████████████████████████████████████████████▌                                                                       | 20/50 [08:59<12:12, 24.42s/it]"
     ]
    },
    {
     "name": "stdout",
     "output_type": "stream",
     "text": [
      "Epoch: 20 | train_loss: 0.5882 | train_acc: 0.7202 | test_loss: 0.6592 | test_acc: 0.6406\n"
     ]
    },
    {
     "name": "stderr",
     "output_type": "stream",
     "text": [
      " 42%|█████████████████████████████████████████████████▉                                                                     | 21/50 [09:24<11:47, 24.41s/it]"
     ]
    },
    {
     "name": "stdout",
     "output_type": "stream",
     "text": [
      "Epoch: 21 | train_loss: 0.5536 | train_acc: 0.7517 | test_loss: 0.6551 | test_acc: 0.6466\n"
     ]
    },
    {
     "name": "stderr",
     "output_type": "stream",
     "text": [
      " 44%|████████████████████████████████████████████████████▎                                                                  | 22/50 [09:48<11:23, 24.39s/it]"
     ]
    },
    {
     "name": "stdout",
     "output_type": "stream",
     "text": [
      "Epoch: 22 | train_loss: 0.5700 | train_acc: 0.7292 | test_loss: 0.6598 | test_acc: 0.6449\n"
     ]
    },
    {
     "name": "stderr",
     "output_type": "stream",
     "text": [
      " 46%|██████████████████████████████████████████████████████▋                                                                | 23/50 [10:12<10:58, 24.40s/it]"
     ]
    },
    {
     "name": "stdout",
     "output_type": "stream",
     "text": [
      "Epoch: 23 | train_loss: 0.5728 | train_acc: 0.7385 | test_loss: 0.6469 | test_acc: 0.6374\n"
     ]
    },
    {
     "name": "stderr",
     "output_type": "stream",
     "text": [
      " 48%|█████████████████████████████████████████████████████████                                                              | 24/50 [10:37<10:34, 24.40s/it]"
     ]
    },
    {
     "name": "stdout",
     "output_type": "stream",
     "text": [
      "Epoch: 24 | train_loss: 0.5544 | train_acc: 0.7422 | test_loss: 0.6597 | test_acc: 0.6374\n"
     ]
    },
    {
     "name": "stderr",
     "output_type": "stream",
     "text": [
      " 50%|███████████████████████████████████████████████████████████▌                                                           | 25/50 [11:01<10:09, 24.40s/it]"
     ]
    },
    {
     "name": "stdout",
     "output_type": "stream",
     "text": [
      "Epoch: 25 | train_loss: 0.5643 | train_acc: 0.7395 | test_loss: 0.6613 | test_acc: 0.6509\n"
     ]
    },
    {
     "name": "stderr",
     "output_type": "stream",
     "text": [
      " 52%|█████████████████████████████████████████████████████████████▉                                                         | 26/50 [11:26<09:45, 24.39s/it]"
     ]
    },
    {
     "name": "stdout",
     "output_type": "stream",
     "text": [
      "Epoch: 26 | train_loss: 0.5674 | train_acc: 0.7361 | test_loss: 0.6476 | test_acc: 0.6525\n"
     ]
    },
    {
     "name": "stderr",
     "output_type": "stream",
     "text": [
      " 54%|████████████████████████████████████████████████████████████████▎                                                      | 27/50 [11:50<09:23, 24.49s/it]"
     ]
    },
    {
     "name": "stdout",
     "output_type": "stream",
     "text": [
      "Epoch: 27 | train_loss: 0.5585 | train_acc: 0.7405 | test_loss: 0.6528 | test_acc: 0.6449\n"
     ]
    },
    {
     "name": "stderr",
     "output_type": "stream",
     "text": [
      " 56%|██████████████████████████████████████████████████████████████████▋                                                    | 28/50 [12:15<09:03, 24.70s/it]"
     ]
    },
    {
     "name": "stdout",
     "output_type": "stream",
     "text": [
      "Epoch: 28 | train_loss: 0.5642 | train_acc: 0.7410 | test_loss: 0.6431 | test_acc: 0.6730\n",
      "[INFO] Saving model to: TrackExp/BestWeight_Part_ICIP_final_denoise_Epoch_27_TrainLoss_0.5641963264216547_TestLoss_0.6431121343168719TrainAcc_0.7409686700767264_Testacc_0.6729525862068966.pth\n"
     ]
    },
    {
     "name": "stderr",
     "output_type": "stream",
     "text": [
      " 58%|█████████████████████████████████████████████████████████████████████                                                  | 29/50 [12:40<08:39, 24.72s/it]"
     ]
    },
    {
     "name": "stdout",
     "output_type": "stream",
     "text": [
      "Epoch: 29 | train_loss: 0.5560 | train_acc: 0.7526 | test_loss: 0.6629 | test_acc: 0.6482\n"
     ]
    },
    {
     "name": "stderr",
     "output_type": "stream",
     "text": [
      " 60%|███████████████████████████████████████████████████████████████████████▍                                               | 30/50 [13:05<08:12, 24.62s/it]"
     ]
    },
    {
     "name": "stdout",
     "output_type": "stream",
     "text": [
      "Epoch: 30 | train_loss: 0.5403 | train_acc: 0.7607 | test_loss: 0.6908 | test_acc: 0.6412\n"
     ]
    },
    {
     "name": "stderr",
     "output_type": "stream",
     "text": [
      " 62%|█████████████████████████████████████████████████████████████████████████▊                                             | 31/50 [13:29<07:46, 24.56s/it]"
     ]
    },
    {
     "name": "stdout",
     "output_type": "stream",
     "text": [
      "Epoch: 31 | train_loss: 0.5483 | train_acc: 0.7482 | test_loss: 0.6874 | test_acc: 0.6336\n"
     ]
    },
    {
     "name": "stderr",
     "output_type": "stream",
     "text": [
      " 64%|████████████████████████████████████████████████████████████████████████████▏                                          | 32/50 [13:53<07:21, 24.51s/it]"
     ]
    },
    {
     "name": "stdout",
     "output_type": "stream",
     "text": [
      "Epoch: 32 | train_loss: 0.5529 | train_acc: 0.7531 | test_loss: 0.7199 | test_acc: 0.6320\n"
     ]
    },
    {
     "name": "stderr",
     "output_type": "stream",
     "text": [
      " 66%|██████████████████████████████████████████████████████████████████████████████▌                                        | 33/50 [14:18<06:56, 24.50s/it]"
     ]
    },
    {
     "name": "stdout",
     "output_type": "stream",
     "text": [
      "Epoch: 33 | train_loss: 0.5398 | train_acc: 0.7597 | test_loss: 0.7027 | test_acc: 0.6536\n"
     ]
    },
    {
     "name": "stderr",
     "output_type": "stream",
     "text": [
      " 68%|████████████████████████████████████████████████████████████████████████████████▉                                      | 34/50 [14:42<06:31, 24.47s/it]"
     ]
    },
    {
     "name": "stdout",
     "output_type": "stream",
     "text": [
      "Epoch: 34 | train_loss: 0.5376 | train_acc: 0.7631 | test_loss: 0.6629 | test_acc: 0.6455\n"
     ]
    },
    {
     "name": "stderr",
     "output_type": "stream",
     "text": [
      " 70%|███████████████████████████████████████████████████████████████████████████████████▎                                   | 35/50 [15:07<06:06, 24.45s/it]"
     ]
    },
    {
     "name": "stdout",
     "output_type": "stream",
     "text": [
      "Epoch: 35 | train_loss: 0.5568 | train_acc: 0.7496 | test_loss: 0.6648 | test_acc: 0.6390\n"
     ]
    },
    {
     "name": "stderr",
     "output_type": "stream",
     "text": [
      " 72%|█████████████████████████████████████████████████████████████████████████████████████▋                                 | 36/50 [15:31<05:41, 24.43s/it]"
     ]
    },
    {
     "name": "stdout",
     "output_type": "stream",
     "text": [
      "Epoch: 36 | train_loss: 0.5432 | train_acc: 0.7580 | test_loss: 0.6451 | test_acc: 0.6713\n"
     ]
    },
    {
     "name": "stderr",
     "output_type": "stream",
     "text": [
      " 74%|████████████████████████████████████████████████████████████████████████████████████████                               | 37/50 [15:55<05:17, 24.41s/it]"
     ]
    },
    {
     "name": "stdout",
     "output_type": "stream",
     "text": [
      "Epoch: 37 | train_loss: 0.5442 | train_acc: 0.7647 | test_loss: 0.6872 | test_acc: 0.6498\n"
     ]
    },
    {
     "name": "stderr",
     "output_type": "stream",
     "text": [
      " 76%|██████████████████████████████████████████████████████████████████████████████████████████▍                            | 38/50 [16:20<04:52, 24.40s/it]"
     ]
    },
    {
     "name": "stdout",
     "output_type": "stream",
     "text": [
      "Epoch: 38 | train_loss: 0.5433 | train_acc: 0.7614 | test_loss: 0.6648 | test_acc: 0.6627\n"
     ]
    },
    {
     "name": "stderr",
     "output_type": "stream",
     "text": [
      " 78%|████████████████████████████████████████████████████████████████████████████████████████████▊                          | 39/50 [16:44<04:28, 24.40s/it]"
     ]
    },
    {
     "name": "stdout",
     "output_type": "stream",
     "text": [
      "Epoch: 39 | train_loss: 0.5116 | train_acc: 0.7678 | test_loss: 0.6529 | test_acc: 0.6719\n"
     ]
    },
    {
     "name": "stderr",
     "output_type": "stream",
     "text": [
      " 80%|███████████████████████████████████████████████████████████████████████████████████████████████▏                       | 40/50 [17:09<04:03, 24.40s/it]"
     ]
    },
    {
     "name": "stdout",
     "output_type": "stream",
     "text": [
      "Epoch: 40 | train_loss: 0.5328 | train_acc: 0.7744 | test_loss: 0.7163 | test_acc: 0.6536\n"
     ]
    },
    {
     "name": "stderr",
     "output_type": "stream",
     "text": [
      " 82%|█████████████████████████████████████████████████████████████████████████████████████████████████▌                     | 41/50 [17:33<03:39, 24.43s/it]"
     ]
    },
    {
     "name": "stdout",
     "output_type": "stream",
     "text": [
      "Epoch: 41 | train_loss: 0.5519 | train_acc: 0.7492 | test_loss: 0.6622 | test_acc: 0.6767\n",
      "[INFO] Saving model to: TrackExp/BestWeight_Part_ICIP_final_denoise_Epoch_40_TrainLoss_0.5518940212933914_TestLoss_0.6621803785192555TrainAcc_0.7492087595907928_Testacc_0.6767241379310345.pth\n"
     ]
    },
    {
     "name": "stderr",
     "output_type": "stream",
     "text": [
      " 84%|███████████████████████████████████████████████████████████████████████████████████████████████████▉                   | 42/50 [17:58<03:15, 24.45s/it]"
     ]
    },
    {
     "name": "stdout",
     "output_type": "stream",
     "text": [
      "Epoch: 42 | train_loss: 0.5403 | train_acc: 0.7570 | test_loss: 0.6410 | test_acc: 0.6622\n"
     ]
    },
    {
     "name": "stderr",
     "output_type": "stream",
     "text": [
      " 86%|██████████████████████████████████████████████████████████████████████████████████████████████████████▎                | 43/50 [18:22<02:51, 24.44s/it]"
     ]
    },
    {
     "name": "stdout",
     "output_type": "stream",
     "text": [
      "Epoch: 43 | train_loss: 0.5426 | train_acc: 0.7598 | test_loss: 0.6461 | test_acc: 0.6670\n"
     ]
    },
    {
     "name": "stderr",
     "output_type": "stream",
     "text": [
      " 88%|████████████████████████████████████████████████████████████████████████████████████████████████████████▋              | 44/50 [18:48<02:29, 24.95s/it]"
     ]
    },
    {
     "name": "stdout",
     "output_type": "stream",
     "text": [
      "Epoch: 44 | train_loss: 0.5335 | train_acc: 0.7567 | test_loss: 0.6637 | test_acc: 0.6433\n"
     ]
    },
    {
     "name": "stderr",
     "output_type": "stream",
     "text": [
      " 90%|███████████████████████████████████████████████████████████████████████████████████████████████████████████            | 45/50 [19:13<02:04, 24.98s/it]"
     ]
    },
    {
     "name": "stdout",
     "output_type": "stream",
     "text": [
      "Epoch: 45 | train_loss: 0.5299 | train_acc: 0.7741 | test_loss: 0.7027 | test_acc: 0.6476\n"
     ]
    },
    {
     "name": "stderr",
     "output_type": "stream",
     "text": [
      " 92%|█████████████████████████████████████████████████████████████████████████████████████████████████████████████▍         | 46/50 [19:39<01:40, 25.13s/it]"
     ]
    },
    {
     "name": "stdout",
     "output_type": "stream",
     "text": [
      "Epoch: 46 | train_loss: 0.5436 | train_acc: 0.7603 | test_loss: 0.6987 | test_acc: 0.6412\n"
     ]
    },
    {
     "name": "stderr",
     "output_type": "stream",
     "text": [
      " 94%|███████████████████████████████████████████████████████████████████████████████████████████████████████████████▊       | 47/50 [20:05<01:16, 25.40s/it]"
     ]
    },
    {
     "name": "stdout",
     "output_type": "stream",
     "text": [
      "Epoch: 47 | train_loss: 0.5236 | train_acc: 0.7764 | test_loss: 0.7108 | test_acc: 0.6584\n"
     ]
    },
    {
     "name": "stderr",
     "output_type": "stream",
     "text": [
      " 96%|██████████████████████████████████████████████████████████████████████████████████████████████████████████████████▏    | 48/50 [20:30<00:50, 25.27s/it]"
     ]
    },
    {
     "name": "stdout",
     "output_type": "stream",
     "text": [
      "Epoch: 48 | train_loss: 0.5495 | train_acc: 0.7575 | test_loss: 0.6692 | test_acc: 0.6460\n"
     ]
    },
    {
     "name": "stderr",
     "output_type": "stream",
     "text": [
      " 98%|████████████████████████████████████████████████████████████████████████████████████████████████████████████████████▌  | 49/50 [21:01<00:26, 26.96s/it]"
     ]
    },
    {
     "name": "stdout",
     "output_type": "stream",
     "text": [
      "Epoch: 49 | train_loss: 0.5427 | train_acc: 0.7584 | test_loss: 0.6918 | test_acc: 0.6336\n"
     ]
    },
    {
     "name": "stderr",
     "output_type": "stream",
     "text": [
      "100%|███████████████████████████████████████████████████████████████████████████████████████████████████████████████████████| 50/50 [21:37<00:00, 25.95s/it]"
     ]
    },
    {
     "name": "stdout",
     "output_type": "stream",
     "text": [
      "Epoch: 50 | train_loss: 0.5312 | train_acc: 0.7735 | test_loss: 0.7358 | test_acc: 0.6331\n"
     ]
    },
    {
     "name": "stderr",
     "output_type": "stream",
     "text": [
      "\n"
     ]
    }
   ],
   "source": [
    "from going_modular.going_modular import engine\n",
    "part = \"ICIP_final_denoise\"\n",
    "# Train the classifier head of the pretrained ViT feature extractor model\n",
    "set_seeds()\n",
    "x = engine.train(model=AmirModel,\n",
    "                                      train_dataloader=train_dataloader,\n",
    "                                      test_dataloader=test_dataloader,\n",
    "                                      optimizer=optimizer,\n",
    "                                      loss_fn=loss_fn,\n",
    "                                      epochs=50,\n",
    "                                      Pivot=65,\n",
    "                                      Part=part,\n",
    "                                      save_weights=True,\n",
    "                                      device=device)"
   ]
  },
  {
   "cell_type": "markdown",
   "id": "48cc76f3-3f60-48d1-bc4f-5dddb56b82dc",
   "metadata": {
    "id": "8706893e-8fa9-4ba5-b0e6-962123259b82"
   },
   "source": [
    "## Save model"
   ]
  },
  {
   "cell_type": "code",
   "execution_count": null,
   "id": "26d9dc9e-a9d4-4a62-9648-8aa71770c67d",
   "metadata": {
    "id": "0fd00943-01aa-4ef4-b366-3cb859a25b6f"
   },
   "outputs": [],
   "source": [
    "# # Save the model\n",
    "from going_modular.going_modular import utils\n",
    "\n",
    "utils.save_model(model=AmirModel,\n",
    "                 target_dir=\"./TrackExp\",\n",
    "                 model_name=name2 + \".pth\")"
   ]
  },
  {
   "cell_type": "markdown",
   "id": "493f1f15-5b9b-4401-84b8-193886fa9791",
   "metadata": {
    "id": "5c0a6fd9-1340-445f-afc4-70baa2311bb7"
   },
   "source": [
    "## Load model weights"
   ]
  },
  {
   "cell_type": "code",
   "execution_count": 22,
   "id": "0923c14e-9d7d-48a5-a16a-f4d399e39db6",
   "metadata": {
    "id": "e22a3c21-f317-4bba-9ea2-5d697e20604c"
   },
   "outputs": [
    {
     "data": {
      "text/plain": [
       "<All keys matched successfully>"
      ]
     },
     "execution_count": 22,
     "metadata": {},
     "output_type": "execute_result"
    }
   ],
   "source": [
    "name2 = \"TrackExp/BestWeight_Part_19_Epoch_2_TrainLoss_0.01639417985006382_TestLoss_0.027976555515579093TrainAcc_0.9941451149425288_Testacc_0.9951171875.pth\"\n",
    "AmirModel.load_state_dict(torch.load(name2))"
   ]
  },
  {
   "cell_type": "code",
   "execution_count": null,
   "id": "cc344e02-f527-425c-a9fc-78f1c222cc61",
   "metadata": {},
   "outputs": [],
   "source": []
  }
 ],
 "metadata": {
  "kernelspec": {
   "display_name": "Python 3 (ipykernel)",
   "language": "python",
   "name": "python3"
  },
  "language_info": {
   "codemirror_mode": {
    "name": "ipython",
    "version": 3
   },
   "file_extension": ".py",
   "mimetype": "text/x-python",
   "name": "python",
   "nbconvert_exporter": "python",
   "pygments_lexer": "ipython3",
   "version": "3.10.12"
  }
 },
 "nbformat": 4,
 "nbformat_minor": 5
}
